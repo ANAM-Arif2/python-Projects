{
  "nbformat": 4,
  "nbformat_minor": 0,
  "metadata": {
    "colab": {
      "provenance": []
    },
    "kernelspec": {
      "name": "python3",
      "display_name": "Python 3"
    },
    "language_info": {
      "name": "python"
    }
  },
  "cells": [
    {
      "cell_type": "code",
      "execution_count": 1,
      "metadata": {
        "id": "0lcGdM96EFCg"
      },
      "outputs": [],
      "source": [
        "import numpy as np\n",
        "import pandas as pd\n",
        "import matplotlib.pyplot as plt\n",
        "from matplotlib.ticker import FuncFormatter\n",
        "import seaborn as sns\n",
        "from sklearn.feature_extraction.text import CountVectorizer, TfidfVectorizer, TfidfTransformer\n",
        "from sklearn.naive_bayes import MultinomialNB\n",
        "from sklearn.tree import DecisionTreeClassifier\n",
        "from sklearn.ensemble import RandomForestClassifier\n",
        "from sklearn.metrics import confusion_matrix\n",
        "from sklearn.model_selection import train_test_split\n",
        "import joblib\n",
        "from sklearn.pipeline import Pipeline\n",
        "from sklearn.model_selection import GridSearchCV\n",
        "from sklearn.linear_model import LogisticRegression\n",
        "import glob\n",
        "import os\n",
        "import seaborn as sns\n",
        "sns.set(color_codes = True)\n",
        "%matplotlib inline"
      ]
    },
    {
      "cell_type": "code",
      "source": [
        "df = pd.read_csv('/content/BBC News Train.csv')\n",
        "df.head(2)"
      ],
      "metadata": {
        "colab": {
          "base_uri": "https://localhost:8080/",
          "height": 112
        },
        "id": "JPsaUKHFFAWS",
        "outputId": "e9e18aed-af1d-4085-b4cd-c7a57fb9d4e2"
      },
      "execution_count": 12,
      "outputs": [
        {
          "output_type": "execute_result",
          "data": {
            "text/plain": [
              "   ArticleId                                               Text  Category\n",
              "0       1833  worldcom ex-boss launches defence lawyers defe...  business\n",
              "1        154  german business confidence slides german busin...  business"
            ],
            "text/html": [
              "\n",
              "  <div id=\"df-c7b4cfca-0147-4809-a76b-2fb11c0f02cc\" class=\"colab-df-container\">\n",
              "    <div>\n",
              "<style scoped>\n",
              "    .dataframe tbody tr th:only-of-type {\n",
              "        vertical-align: middle;\n",
              "    }\n",
              "\n",
              "    .dataframe tbody tr th {\n",
              "        vertical-align: top;\n",
              "    }\n",
              "\n",
              "    .dataframe thead th {\n",
              "        text-align: right;\n",
              "    }\n",
              "</style>\n",
              "<table border=\"1\" class=\"dataframe\">\n",
              "  <thead>\n",
              "    <tr style=\"text-align: right;\">\n",
              "      <th></th>\n",
              "      <th>ArticleId</th>\n",
              "      <th>Text</th>\n",
              "      <th>Category</th>\n",
              "    </tr>\n",
              "  </thead>\n",
              "  <tbody>\n",
              "    <tr>\n",
              "      <th>0</th>\n",
              "      <td>1833</td>\n",
              "      <td>worldcom ex-boss launches defence lawyers defe...</td>\n",
              "      <td>business</td>\n",
              "    </tr>\n",
              "    <tr>\n",
              "      <th>1</th>\n",
              "      <td>154</td>\n",
              "      <td>german business confidence slides german busin...</td>\n",
              "      <td>business</td>\n",
              "    </tr>\n",
              "  </tbody>\n",
              "</table>\n",
              "</div>\n",
              "    <div class=\"colab-df-buttons\">\n",
              "\n",
              "  <div class=\"colab-df-container\">\n",
              "    <button class=\"colab-df-convert\" onclick=\"convertToInteractive('df-c7b4cfca-0147-4809-a76b-2fb11c0f02cc')\"\n",
              "            title=\"Convert this dataframe to an interactive table.\"\n",
              "            style=\"display:none;\">\n",
              "\n",
              "  <svg xmlns=\"http://www.w3.org/2000/svg\" height=\"24px\" viewBox=\"0 -960 960 960\">\n",
              "    <path d=\"M120-120v-720h720v720H120Zm60-500h600v-160H180v160Zm220 220h160v-160H400v160Zm0 220h160v-160H400v160ZM180-400h160v-160H180v160Zm440 0h160v-160H620v160ZM180-180h160v-160H180v160Zm440 0h160v-160H620v160Z\"/>\n",
              "  </svg>\n",
              "    </button>\n",
              "\n",
              "  <style>\n",
              "    .colab-df-container {\n",
              "      display:flex;\n",
              "      gap: 12px;\n",
              "    }\n",
              "\n",
              "    .colab-df-convert {\n",
              "      background-color: #E8F0FE;\n",
              "      border: none;\n",
              "      border-radius: 50%;\n",
              "      cursor: pointer;\n",
              "      display: none;\n",
              "      fill: #1967D2;\n",
              "      height: 32px;\n",
              "      padding: 0 0 0 0;\n",
              "      width: 32px;\n",
              "    }\n",
              "\n",
              "    .colab-df-convert:hover {\n",
              "      background-color: #E2EBFA;\n",
              "      box-shadow: 0px 1px 2px rgba(60, 64, 67, 0.3), 0px 1px 3px 1px rgba(60, 64, 67, 0.15);\n",
              "      fill: #174EA6;\n",
              "    }\n",
              "\n",
              "    .colab-df-buttons div {\n",
              "      margin-bottom: 4px;\n",
              "    }\n",
              "\n",
              "    [theme=dark] .colab-df-convert {\n",
              "      background-color: #3B4455;\n",
              "      fill: #D2E3FC;\n",
              "    }\n",
              "\n",
              "    [theme=dark] .colab-df-convert:hover {\n",
              "      background-color: #434B5C;\n",
              "      box-shadow: 0px 1px 3px 1px rgba(0, 0, 0, 0.15);\n",
              "      filter: drop-shadow(0px 1px 2px rgba(0, 0, 0, 0.3));\n",
              "      fill: #FFFFFF;\n",
              "    }\n",
              "  </style>\n",
              "\n",
              "    <script>\n",
              "      const buttonEl =\n",
              "        document.querySelector('#df-c7b4cfca-0147-4809-a76b-2fb11c0f02cc button.colab-df-convert');\n",
              "      buttonEl.style.display =\n",
              "        google.colab.kernel.accessAllowed ? 'block' : 'none';\n",
              "\n",
              "      async function convertToInteractive(key) {\n",
              "        const element = document.querySelector('#df-c7b4cfca-0147-4809-a76b-2fb11c0f02cc');\n",
              "        const dataTable =\n",
              "          await google.colab.kernel.invokeFunction('convertToInteractive',\n",
              "                                                    [key], {});\n",
              "        if (!dataTable) return;\n",
              "\n",
              "        const docLinkHtml = 'Like what you see? Visit the ' +\n",
              "          '<a target=\"_blank\" href=https://colab.research.google.com/notebooks/data_table.ipynb>data table notebook</a>'\n",
              "          + ' to learn more about interactive tables.';\n",
              "        element.innerHTML = '';\n",
              "        dataTable['output_type'] = 'display_data';\n",
              "        await google.colab.output.renderOutput(dataTable, element);\n",
              "        const docLink = document.createElement('div');\n",
              "        docLink.innerHTML = docLinkHtml;\n",
              "        element.appendChild(docLink);\n",
              "      }\n",
              "    </script>\n",
              "  </div>\n",
              "\n",
              "\n",
              "<div id=\"df-61c43e92-197c-43b0-89f9-8b44075b2005\">\n",
              "  <button class=\"colab-df-quickchart\" onclick=\"quickchart('df-61c43e92-197c-43b0-89f9-8b44075b2005')\"\n",
              "            title=\"Suggest charts\"\n",
              "            style=\"display:none;\">\n",
              "\n",
              "<svg xmlns=\"http://www.w3.org/2000/svg\" height=\"24px\"viewBox=\"0 0 24 24\"\n",
              "     width=\"24px\">\n",
              "    <g>\n",
              "        <path d=\"M19 3H5c-1.1 0-2 .9-2 2v14c0 1.1.9 2 2 2h14c1.1 0 2-.9 2-2V5c0-1.1-.9-2-2-2zM9 17H7v-7h2v7zm4 0h-2V7h2v10zm4 0h-2v-4h2v4z\"/>\n",
              "    </g>\n",
              "</svg>\n",
              "  </button>\n",
              "\n",
              "<style>\n",
              "  .colab-df-quickchart {\n",
              "      --bg-color: #E8F0FE;\n",
              "      --fill-color: #1967D2;\n",
              "      --hover-bg-color: #E2EBFA;\n",
              "      --hover-fill-color: #174EA6;\n",
              "      --disabled-fill-color: #AAA;\n",
              "      --disabled-bg-color: #DDD;\n",
              "  }\n",
              "\n",
              "  [theme=dark] .colab-df-quickchart {\n",
              "      --bg-color: #3B4455;\n",
              "      --fill-color: #D2E3FC;\n",
              "      --hover-bg-color: #434B5C;\n",
              "      --hover-fill-color: #FFFFFF;\n",
              "      --disabled-bg-color: #3B4455;\n",
              "      --disabled-fill-color: #666;\n",
              "  }\n",
              "\n",
              "  .colab-df-quickchart {\n",
              "    background-color: var(--bg-color);\n",
              "    border: none;\n",
              "    border-radius: 50%;\n",
              "    cursor: pointer;\n",
              "    display: none;\n",
              "    fill: var(--fill-color);\n",
              "    height: 32px;\n",
              "    padding: 0;\n",
              "    width: 32px;\n",
              "  }\n",
              "\n",
              "  .colab-df-quickchart:hover {\n",
              "    background-color: var(--hover-bg-color);\n",
              "    box-shadow: 0 1px 2px rgba(60, 64, 67, 0.3), 0 1px 3px 1px rgba(60, 64, 67, 0.15);\n",
              "    fill: var(--button-hover-fill-color);\n",
              "  }\n",
              "\n",
              "  .colab-df-quickchart-complete:disabled,\n",
              "  .colab-df-quickchart-complete:disabled:hover {\n",
              "    background-color: var(--disabled-bg-color);\n",
              "    fill: var(--disabled-fill-color);\n",
              "    box-shadow: none;\n",
              "  }\n",
              "\n",
              "  .colab-df-spinner {\n",
              "    border: 2px solid var(--fill-color);\n",
              "    border-color: transparent;\n",
              "    border-bottom-color: var(--fill-color);\n",
              "    animation:\n",
              "      spin 1s steps(1) infinite;\n",
              "  }\n",
              "\n",
              "  @keyframes spin {\n",
              "    0% {\n",
              "      border-color: transparent;\n",
              "      border-bottom-color: var(--fill-color);\n",
              "      border-left-color: var(--fill-color);\n",
              "    }\n",
              "    20% {\n",
              "      border-color: transparent;\n",
              "      border-left-color: var(--fill-color);\n",
              "      border-top-color: var(--fill-color);\n",
              "    }\n",
              "    30% {\n",
              "      border-color: transparent;\n",
              "      border-left-color: var(--fill-color);\n",
              "      border-top-color: var(--fill-color);\n",
              "      border-right-color: var(--fill-color);\n",
              "    }\n",
              "    40% {\n",
              "      border-color: transparent;\n",
              "      border-right-color: var(--fill-color);\n",
              "      border-top-color: var(--fill-color);\n",
              "    }\n",
              "    60% {\n",
              "      border-color: transparent;\n",
              "      border-right-color: var(--fill-color);\n",
              "    }\n",
              "    80% {\n",
              "      border-color: transparent;\n",
              "      border-right-color: var(--fill-color);\n",
              "      border-bottom-color: var(--fill-color);\n",
              "    }\n",
              "    90% {\n",
              "      border-color: transparent;\n",
              "      border-bottom-color: var(--fill-color);\n",
              "    }\n",
              "  }\n",
              "</style>\n",
              "\n",
              "  <script>\n",
              "    async function quickchart(key) {\n",
              "      const quickchartButtonEl =\n",
              "        document.querySelector('#' + key + ' button');\n",
              "      quickchartButtonEl.disabled = true;  // To prevent multiple clicks.\n",
              "      quickchartButtonEl.classList.add('colab-df-spinner');\n",
              "      try {\n",
              "        const charts = await google.colab.kernel.invokeFunction(\n",
              "            'suggestCharts', [key], {});\n",
              "      } catch (error) {\n",
              "        console.error('Error during call to suggestCharts:', error);\n",
              "      }\n",
              "      quickchartButtonEl.classList.remove('colab-df-spinner');\n",
              "      quickchartButtonEl.classList.add('colab-df-quickchart-complete');\n",
              "    }\n",
              "    (() => {\n",
              "      let quickchartButtonEl =\n",
              "        document.querySelector('#df-61c43e92-197c-43b0-89f9-8b44075b2005 button');\n",
              "      quickchartButtonEl.style.display =\n",
              "        google.colab.kernel.accessAllowed ? 'block' : 'none';\n",
              "    })();\n",
              "  </script>\n",
              "</div>\n",
              "\n",
              "    </div>\n",
              "  </div>\n"
            ],
            "application/vnd.google.colaboratory.intrinsic+json": {
              "type": "dataframe",
              "variable_name": "df",
              "summary": "{\n  \"name\": \"df\",\n  \"rows\": 1490,\n  \"fields\": [\n    {\n      \"column\": \"ArticleId\",\n      \"properties\": {\n        \"dtype\": \"number\",\n        \"std\": 641,\n        \"min\": 2,\n        \"max\": 2224,\n        \"num_unique_values\": 1490,\n        \"samples\": [\n          2160,\n          1360,\n          302\n        ],\n        \"semantic_type\": \"\",\n        \"description\": \"\"\n      }\n    },\n    {\n      \"column\": \"Text\",\n      \"properties\": {\n        \"dtype\": \"string\",\n        \"num_unique_values\": 1440,\n        \"samples\": [\n          \"bellamy under new fire newcastle boss graeme souness has reopened his dispute with craig bellamy after claiming the welshman was  not good enough  for the magpies. bellamy left newcastle to join celtic on loan after a major row with souness. souness - who refused to refer to the 25-year-old by name - said bellamy did not score enough goals  the chap that s just gone has scored 9.3 goals a season in his time in senior football - half of those weren t even in the top flight   said souness.  that s not good enough for a striker at a club like this.  we need to have two strikers who are near 20 goals on a regular basis.   bellamy turned down a move to birmingham in favour of joining celtic after a disagreement about the welsh international playing out of position quickly escalated. earlier in the week  souness had said that he risked losing the confidence of the players and damaging his own reputation if he had not taken a hard line after bellamy accused him of lying.   there are certain things you can forgive and forget   said souness.  but if i d been seen to be weak in this case there was no future for me with the players in the dressing room or any job i have after newcastle.  he could then return to st james  park - and he says that he wants to. however  it would seem unlikely he will play for newcastle again as long as souness remains in charge.\",\n          \"schools to take part in mock poll record numbers of schools across the uk are to take part in a mock general election backed by the government.  some 600 schools have already signed up for the y vote mock elections 2005 run by the hansard society and aimed at boosting interest in politics. pupils in the schools taking part will learn the skills of speech writers  canvassers and political candidates. schools minister stephen twigg said engaging young people s interest was  essential  to the future of democracy.  he added: said  young people who are engaged and motivated by the political process are essential to the future health of our democracy.  the mock elections initiative provides an opportunity for pupils to develop their own understanding of how the democratic process works and why it matters.  by experiencing the election process first hand - from running a campaign to the declaration of the final result - we hope that young people will develop the enthusiasm to take part in the future.  the hansard society  the electoral commission and the department for education and skills are running the programme. pupils will stand as party candidates  speech writers and canvassers. michael raftery  project manager at the hansard society  said:  the y vote mock elections for schools mirror the excitement and buzz of a real election  raising awareness of citizenship  and the benefits of active democracy.  the mock votes will take place around 5 may  widely expected to be the date of the general election. information packs  including ballot papers and manifesto guides  with elections happening in early may were sent out to the 3 000 schools invited to take part.\",\n          \"rap boss arrested over drug find rap mogul marion  suge  knight has been arrested for violating his parole after he was allegedly found with marijuana.  he was arrested in barstow  california  on saturday following an alleged traffic offence. he is expected to be transferred to a state prison while a decision is made on whether he should be released. mr knight  founder of death row records  served a 10-month jail term in 2004 for punching a man while on parole for an assault conviction. police said mr knight was stopped on saturday after performing an illegal u-turn and a search of his car allegedly found marijuana.  he is also accused of not having insurance. a 18-year-old woman in the car was arrested for providing false information and having a fake id card. she was later released. it was his second alleged violation  having previously served half of a nine-year sentence for breaking the terms of his parole. mr knight  39  was jailed in october 1996 following his involvement in a fight with a rival gang just hours before rapper tupac shakur was killed in a las vegas drive-by shooting. he was driving shakur s car at the time and was shot in the head. at the time he was on probation for assaulting two musicians. mr knight  a former bodyguard  set up death row records in the early 1990s with shakur and dr dre among his protegees. but the label has always been dogged by allegations it supports gang culture and fuels the east and west coast rap rivalry.\"\n        ],\n        \"semantic_type\": \"\",\n        \"description\": \"\"\n      }\n    },\n    {\n      \"column\": \"Category\",\n      \"properties\": {\n        \"dtype\": \"category\",\n        \"num_unique_values\": 5,\n        \"samples\": [\n          \"tech\",\n          \"entertainment\",\n          \"politics\"\n        ],\n        \"semantic_type\": \"\",\n        \"description\": \"\"\n      }\n    }\n  ]\n}"
            }
          },
          "metadata": {},
          "execution_count": 12
        }
      ]
    },
    {
      "cell_type": "code",
      "source": [
        "df.isna().sum()"
      ],
      "metadata": {
        "colab": {
          "base_uri": "https://localhost:8080/"
        },
        "id": "wzKF9nWYRlyI",
        "outputId": "e4a20e2c-ec32-4dea-afae-99f0aa5a811c"
      },
      "execution_count": 48,
      "outputs": [
        {
          "output_type": "execute_result",
          "data": {
            "text/plain": [
              "Category     0\n",
              "ArticleId    0\n",
              "Text         0\n",
              "dtype: int64"
            ]
          },
          "metadata": {},
          "execution_count": 48
        }
      ]
    },
    {
      "cell_type": "code",
      "source": [
        "df.describe()"
      ],
      "metadata": {
        "colab": {
          "base_uri": "https://localhost:8080/",
          "height": 300
        },
        "id": "rkNORnDwRUyj",
        "outputId": "efe08bbe-b223-45cd-f0e2-802e835a5cef"
      },
      "execution_count": 47,
      "outputs": [
        {
          "output_type": "execute_result",
          "data": {
            "text/plain": [
              "         ArticleId\n",
              "count  1490.000000\n",
              "mean   1119.696644\n",
              "std     641.826283\n",
              "min       2.000000\n",
              "25%     565.250000\n",
              "50%    1112.500000\n",
              "75%    1680.750000\n",
              "max    2224.000000"
            ],
            "text/html": [
              "\n",
              "  <div id=\"df-162edd81-6153-44b8-8934-a8a24652abe5\" class=\"colab-df-container\">\n",
              "    <div>\n",
              "<style scoped>\n",
              "    .dataframe tbody tr th:only-of-type {\n",
              "        vertical-align: middle;\n",
              "    }\n",
              "\n",
              "    .dataframe tbody tr th {\n",
              "        vertical-align: top;\n",
              "    }\n",
              "\n",
              "    .dataframe thead th {\n",
              "        text-align: right;\n",
              "    }\n",
              "</style>\n",
              "<table border=\"1\" class=\"dataframe\">\n",
              "  <thead>\n",
              "    <tr style=\"text-align: right;\">\n",
              "      <th></th>\n",
              "      <th>ArticleId</th>\n",
              "    </tr>\n",
              "  </thead>\n",
              "  <tbody>\n",
              "    <tr>\n",
              "      <th>count</th>\n",
              "      <td>1490.000000</td>\n",
              "    </tr>\n",
              "    <tr>\n",
              "      <th>mean</th>\n",
              "      <td>1119.696644</td>\n",
              "    </tr>\n",
              "    <tr>\n",
              "      <th>std</th>\n",
              "      <td>641.826283</td>\n",
              "    </tr>\n",
              "    <tr>\n",
              "      <th>min</th>\n",
              "      <td>2.000000</td>\n",
              "    </tr>\n",
              "    <tr>\n",
              "      <th>25%</th>\n",
              "      <td>565.250000</td>\n",
              "    </tr>\n",
              "    <tr>\n",
              "      <th>50%</th>\n",
              "      <td>1112.500000</td>\n",
              "    </tr>\n",
              "    <tr>\n",
              "      <th>75%</th>\n",
              "      <td>1680.750000</td>\n",
              "    </tr>\n",
              "    <tr>\n",
              "      <th>max</th>\n",
              "      <td>2224.000000</td>\n",
              "    </tr>\n",
              "  </tbody>\n",
              "</table>\n",
              "</div>\n",
              "    <div class=\"colab-df-buttons\">\n",
              "\n",
              "  <div class=\"colab-df-container\">\n",
              "    <button class=\"colab-df-convert\" onclick=\"convertToInteractive('df-162edd81-6153-44b8-8934-a8a24652abe5')\"\n",
              "            title=\"Convert this dataframe to an interactive table.\"\n",
              "            style=\"display:none;\">\n",
              "\n",
              "  <svg xmlns=\"http://www.w3.org/2000/svg\" height=\"24px\" viewBox=\"0 -960 960 960\">\n",
              "    <path d=\"M120-120v-720h720v720H120Zm60-500h600v-160H180v160Zm220 220h160v-160H400v160Zm0 220h160v-160H400v160ZM180-400h160v-160H180v160Zm440 0h160v-160H620v160ZM180-180h160v-160H180v160Zm440 0h160v-160H620v160Z\"/>\n",
              "  </svg>\n",
              "    </button>\n",
              "\n",
              "  <style>\n",
              "    .colab-df-container {\n",
              "      display:flex;\n",
              "      gap: 12px;\n",
              "    }\n",
              "\n",
              "    .colab-df-convert {\n",
              "      background-color: #E8F0FE;\n",
              "      border: none;\n",
              "      border-radius: 50%;\n",
              "      cursor: pointer;\n",
              "      display: none;\n",
              "      fill: #1967D2;\n",
              "      height: 32px;\n",
              "      padding: 0 0 0 0;\n",
              "      width: 32px;\n",
              "    }\n",
              "\n",
              "    .colab-df-convert:hover {\n",
              "      background-color: #E2EBFA;\n",
              "      box-shadow: 0px 1px 2px rgba(60, 64, 67, 0.3), 0px 1px 3px 1px rgba(60, 64, 67, 0.15);\n",
              "      fill: #174EA6;\n",
              "    }\n",
              "\n",
              "    .colab-df-buttons div {\n",
              "      margin-bottom: 4px;\n",
              "    }\n",
              "\n",
              "    [theme=dark] .colab-df-convert {\n",
              "      background-color: #3B4455;\n",
              "      fill: #D2E3FC;\n",
              "    }\n",
              "\n",
              "    [theme=dark] .colab-df-convert:hover {\n",
              "      background-color: #434B5C;\n",
              "      box-shadow: 0px 1px 3px 1px rgba(0, 0, 0, 0.15);\n",
              "      filter: drop-shadow(0px 1px 2px rgba(0, 0, 0, 0.3));\n",
              "      fill: #FFFFFF;\n",
              "    }\n",
              "  </style>\n",
              "\n",
              "    <script>\n",
              "      const buttonEl =\n",
              "        document.querySelector('#df-162edd81-6153-44b8-8934-a8a24652abe5 button.colab-df-convert');\n",
              "      buttonEl.style.display =\n",
              "        google.colab.kernel.accessAllowed ? 'block' : 'none';\n",
              "\n",
              "      async function convertToInteractive(key) {\n",
              "        const element = document.querySelector('#df-162edd81-6153-44b8-8934-a8a24652abe5');\n",
              "        const dataTable =\n",
              "          await google.colab.kernel.invokeFunction('convertToInteractive',\n",
              "                                                    [key], {});\n",
              "        if (!dataTable) return;\n",
              "\n",
              "        const docLinkHtml = 'Like what you see? Visit the ' +\n",
              "          '<a target=\"_blank\" href=https://colab.research.google.com/notebooks/data_table.ipynb>data table notebook</a>'\n",
              "          + ' to learn more about interactive tables.';\n",
              "        element.innerHTML = '';\n",
              "        dataTable['output_type'] = 'display_data';\n",
              "        await google.colab.output.renderOutput(dataTable, element);\n",
              "        const docLink = document.createElement('div');\n",
              "        docLink.innerHTML = docLinkHtml;\n",
              "        element.appendChild(docLink);\n",
              "      }\n",
              "    </script>\n",
              "  </div>\n",
              "\n",
              "\n",
              "<div id=\"df-4d5c63a8-d4a9-47aa-b9d9-ec02fb21fc77\">\n",
              "  <button class=\"colab-df-quickchart\" onclick=\"quickchart('df-4d5c63a8-d4a9-47aa-b9d9-ec02fb21fc77')\"\n",
              "            title=\"Suggest charts\"\n",
              "            style=\"display:none;\">\n",
              "\n",
              "<svg xmlns=\"http://www.w3.org/2000/svg\" height=\"24px\"viewBox=\"0 0 24 24\"\n",
              "     width=\"24px\">\n",
              "    <g>\n",
              "        <path d=\"M19 3H5c-1.1 0-2 .9-2 2v14c0 1.1.9 2 2 2h14c1.1 0 2-.9 2-2V5c0-1.1-.9-2-2-2zM9 17H7v-7h2v7zm4 0h-2V7h2v10zm4 0h-2v-4h2v4z\"/>\n",
              "    </g>\n",
              "</svg>\n",
              "  </button>\n",
              "\n",
              "<style>\n",
              "  .colab-df-quickchart {\n",
              "      --bg-color: #E8F0FE;\n",
              "      --fill-color: #1967D2;\n",
              "      --hover-bg-color: #E2EBFA;\n",
              "      --hover-fill-color: #174EA6;\n",
              "      --disabled-fill-color: #AAA;\n",
              "      --disabled-bg-color: #DDD;\n",
              "  }\n",
              "\n",
              "  [theme=dark] .colab-df-quickchart {\n",
              "      --bg-color: #3B4455;\n",
              "      --fill-color: #D2E3FC;\n",
              "      --hover-bg-color: #434B5C;\n",
              "      --hover-fill-color: #FFFFFF;\n",
              "      --disabled-bg-color: #3B4455;\n",
              "      --disabled-fill-color: #666;\n",
              "  }\n",
              "\n",
              "  .colab-df-quickchart {\n",
              "    background-color: var(--bg-color);\n",
              "    border: none;\n",
              "    border-radius: 50%;\n",
              "    cursor: pointer;\n",
              "    display: none;\n",
              "    fill: var(--fill-color);\n",
              "    height: 32px;\n",
              "    padding: 0;\n",
              "    width: 32px;\n",
              "  }\n",
              "\n",
              "  .colab-df-quickchart:hover {\n",
              "    background-color: var(--hover-bg-color);\n",
              "    box-shadow: 0 1px 2px rgba(60, 64, 67, 0.3), 0 1px 3px 1px rgba(60, 64, 67, 0.15);\n",
              "    fill: var(--button-hover-fill-color);\n",
              "  }\n",
              "\n",
              "  .colab-df-quickchart-complete:disabled,\n",
              "  .colab-df-quickchart-complete:disabled:hover {\n",
              "    background-color: var(--disabled-bg-color);\n",
              "    fill: var(--disabled-fill-color);\n",
              "    box-shadow: none;\n",
              "  }\n",
              "\n",
              "  .colab-df-spinner {\n",
              "    border: 2px solid var(--fill-color);\n",
              "    border-color: transparent;\n",
              "    border-bottom-color: var(--fill-color);\n",
              "    animation:\n",
              "      spin 1s steps(1) infinite;\n",
              "  }\n",
              "\n",
              "  @keyframes spin {\n",
              "    0% {\n",
              "      border-color: transparent;\n",
              "      border-bottom-color: var(--fill-color);\n",
              "      border-left-color: var(--fill-color);\n",
              "    }\n",
              "    20% {\n",
              "      border-color: transparent;\n",
              "      border-left-color: var(--fill-color);\n",
              "      border-top-color: var(--fill-color);\n",
              "    }\n",
              "    30% {\n",
              "      border-color: transparent;\n",
              "      border-left-color: var(--fill-color);\n",
              "      border-top-color: var(--fill-color);\n",
              "      border-right-color: var(--fill-color);\n",
              "    }\n",
              "    40% {\n",
              "      border-color: transparent;\n",
              "      border-right-color: var(--fill-color);\n",
              "      border-top-color: var(--fill-color);\n",
              "    }\n",
              "    60% {\n",
              "      border-color: transparent;\n",
              "      border-right-color: var(--fill-color);\n",
              "    }\n",
              "    80% {\n",
              "      border-color: transparent;\n",
              "      border-right-color: var(--fill-color);\n",
              "      border-bottom-color: var(--fill-color);\n",
              "    }\n",
              "    90% {\n",
              "      border-color: transparent;\n",
              "      border-bottom-color: var(--fill-color);\n",
              "    }\n",
              "  }\n",
              "</style>\n",
              "\n",
              "  <script>\n",
              "    async function quickchart(key) {\n",
              "      const quickchartButtonEl =\n",
              "        document.querySelector('#' + key + ' button');\n",
              "      quickchartButtonEl.disabled = true;  // To prevent multiple clicks.\n",
              "      quickchartButtonEl.classList.add('colab-df-spinner');\n",
              "      try {\n",
              "        const charts = await google.colab.kernel.invokeFunction(\n",
              "            'suggestCharts', [key], {});\n",
              "      } catch (error) {\n",
              "        console.error('Error during call to suggestCharts:', error);\n",
              "      }\n",
              "      quickchartButtonEl.classList.remove('colab-df-spinner');\n",
              "      quickchartButtonEl.classList.add('colab-df-quickchart-complete');\n",
              "    }\n",
              "    (() => {\n",
              "      let quickchartButtonEl =\n",
              "        document.querySelector('#df-4d5c63a8-d4a9-47aa-b9d9-ec02fb21fc77 button');\n",
              "      quickchartButtonEl.style.display =\n",
              "        google.colab.kernel.accessAllowed ? 'block' : 'none';\n",
              "    })();\n",
              "  </script>\n",
              "</div>\n",
              "\n",
              "    </div>\n",
              "  </div>\n"
            ],
            "application/vnd.google.colaboratory.intrinsic+json": {
              "type": "dataframe",
              "summary": "{\n  \"name\": \"df\",\n  \"rows\": 8,\n  \"fields\": [\n    {\n      \"column\": \"ArticleId\",\n      \"properties\": {\n        \"dtype\": \"number\",\n        \"std\": 702.5070697832231,\n        \"min\": 2.0,\n        \"max\": 2224.0,\n        \"num_unique_values\": 8,\n        \"samples\": [\n          1119.6966442953021,\n          1112.5,\n          1490.0\n        ],\n        \"semantic_type\": \"\",\n        \"description\": \"\"\n      }\n    }\n  ]\n}"
            }
          },
          "metadata": {},
          "execution_count": 47
        }
      ]
    },
    {
      "cell_type": "code",
      "source": [
        "df['Category'].unique()"
      ],
      "metadata": {
        "colab": {
          "base_uri": "https://localhost:8080/"
        },
        "id": "0k-2QWfzFAS4",
        "outputId": "c0776cef-b3bc-4652-e596-5e771270ffe4"
      },
      "execution_count": 13,
      "outputs": [
        {
          "output_type": "execute_result",
          "data": {
            "text/plain": [
              "array(['business', 'tech', 'politics', 'sport', 'entertainment'],\n",
              "      dtype=object)"
            ]
          },
          "metadata": {},
          "execution_count": 13
        }
      ]
    },
    {
      "cell_type": "code",
      "source": [
        "df.groupby('Category').Category.count().plot.bar(ylim=0)"
      ],
      "metadata": {
        "colab": {
          "base_uri": "https://localhost:8080/",
          "height": 570
        },
        "id": "B-dsPYnPQNIT",
        "outputId": "239f9685-7e2d-445f-c397-19fc55774299"
      },
      "execution_count": 45,
      "outputs": [
        {
          "output_type": "execute_result",
          "data": {
            "text/plain": [
              "<Axes: xlabel='Category'>"
            ]
          },
          "metadata": {},
          "execution_count": 45
        },
        {
          "output_type": "display_data",
          "data": {
            "text/plain": [
              "<Figure size 640x480 with 1 Axes>"
            ],
            "image/png": "[encoded data removed]"
          },
          "metadata": {}
        }
      ]
    },
    {
      "cell_type": "code",
      "source": [
        "tags_values = df['Category'].value_counts()\n",
        "tags_values"
      ],
      "metadata": {
        "colab": {
          "base_uri": "https://localhost:8080/"
        },
        "id": "RKjW20TzFANL",
        "outputId": "fc00b5e4-3c79-4113-a1a4-d7dcd9f30c31"
      },
      "execution_count": 14,
      "outputs": [
        {
          "output_type": "execute_result",
          "data": {
            "text/plain": [
              "Category\n",
              "sport            346\n",
              "business         336\n",
              "politics         274\n",
              "entertainment    273\n",
              "tech             261\n",
              "Name: count, dtype: int64"
            ]
          },
          "metadata": {},
          "execution_count": 14
        }
      ]
    },
    {
      "cell_type": "code",
      "source": [
        "df.columns\n",
        "df['Category'].value_counts()"
      ],
      "metadata": {
        "colab": {
          "base_uri": "https://localhost:8080/"
        },
        "id": "wZ8bLmFGFAKm",
        "outputId": "766fcc16-8f1b-405f-d688-3926db004c60"
      },
      "execution_count": 15,
      "outputs": [
        {
          "output_type": "execute_result",
          "data": {
            "text/plain": [
              "Category\n",
              "sport            346\n",
              "business         336\n",
              "politics         274\n",
              "entertainment    273\n",
              "tech             261\n",
              "Name: count, dtype: int64"
            ]
          },
          "metadata": {},
          "execution_count": 15
        }
      ]
    },
    {
      "cell_type": "code",
      "source": [
        "df = pd.DataFrame(df, columns=['Category', 'ArticleId', 'Text'])\n",
        "print(df.head())\n",
        "print('\\nShape of data is {}\\n'.format(df.shape))\n",
        "print(df.info())"
      ],
      "metadata": {
        "colab": {
          "base_uri": "https://localhost:8080/"
        },
        "id": "D_yzAkJiFAHq",
        "outputId": "7d387eae-ef2a-42d5-f70a-d42b707520b8"
      },
      "execution_count": 16,
      "outputs": [
        {
          "output_type": "stream",
          "name": "stdout",
          "text": [
            "   Category  ArticleId                                               Text\n",
            "0  business       1833  worldcom ex-boss launches defence lawyers defe...\n",
            "1  business        154  german business confidence slides german busin...\n",
            "2  business       1101  bbc poll indicates economic gloom citizens in ...\n",
            "3      tech       1976  lifestyle  governs mobile choice  faster  bett...\n",
            "4  business        917  enron bosses in $168m payout eighteen former e...\n",
            "\n",
            "Shape of data is (1490, 3)\n",
            "\n",
            "<class 'pandas.core.frame.DataFrame'>\n",
            "RangeIndex: 1490 entries, 0 to 1489\n",
            "Data columns (total 3 columns):\n",
            " #   Column     Non-Null Count  Dtype \n",
            "---  ------     --------------  ----- \n",
            " 0   Category   1490 non-null   object\n",
            " 1   ArticleId  1490 non-null   int64 \n",
            " 2   Text       1490 non-null   object\n",
            "dtypes: int64(1), object(2)\n",
            "memory usage: 35.0+ KB\n",
            "None\n"
          ]
        }
      ]
    },
    {
      "cell_type": "code",
      "source": [
        "heading_sport = df[df[\"Category\"] == \"sport\"][\"Text\"]\n",
        "collapsed_heading_sport = heading_sport.str.cat(sep=' ')\n",
        "heading_business = df[df[\"Category\"] == \"business\"][\"Text\"]\n",
        "collapsed_heading_business = heading_business.str.cat(sep=' ')\n",
        "heading_politics = df[df[\"Category\"] == \"politics\"][\"Text\"]\n",
        "collapsed_heading_politics = heading_politics.str.cat(sep=' ')\n",
        "heading_tech = df[df[\"Category\"] == \"tech\"][\"Text\"]\n",
        "collapsed_heading_tech = heading_tech.str.cat(sep=' ')\n",
        "heading_entertainment = df[df[\"Category\"] == \"entertainment\"][\"Text\"]\n",
        "collapsed_heading_entertainment = heading_entertainment.str.cat(sep=' ')"
      ],
      "metadata": {
        "id": "Q4ujEadjFACT"
      },
      "execution_count": 21,
      "outputs": []
    },
    {
      "cell_type": "code",
      "source": [
        "clf =  Pipeline([('vect', CountVectorizer()),\n",
        "             ('tfidf', TfidfTransformer()),\n",
        "               ('clf', MultinomialNB()),\n",
        "                ])"
      ],
      "metadata": {
        "id": "bKziD1qYE__m"
      },
      "execution_count": 22,
      "outputs": []
    },
    {
      "cell_type": "code",
      "source": [
        "X_train, X_test, y_train, y_test = train_test_split(df['Text'], df['Category'], test_size = 0.4,random_state=42)\n",
        "X_train.shape,X_test.shape,y_train.shape,y_test.shape"
      ],
      "metadata": {
        "colab": {
          "base_uri": "https://localhost:8080/"
        },
        "id": "kt98nVlfE_9D",
        "outputId": "03bb20b8-2348-4bea-9f9e-78fe9fa490c7"
      },
      "execution_count": 23,
      "outputs": [
        {
          "output_type": "execute_result",
          "data": {
            "text/plain": [
              "((894,), (596,), (894,), (596,))"
            ]
          },
          "metadata": {},
          "execution_count": 23
        }
      ]
    },
    {
      "cell_type": "code",
      "source": [
        "model = clf.fit(X_train,y_train)"
      ],
      "metadata": {
        "id": "eKGBJbDyE_6e"
      },
      "execution_count": 24,
      "outputs": []
    },
    {
      "cell_type": "code",
      "source": [
        "print(\"Accuracy of Naive Bayes Classifier is {}\".format(model.score(X_test,y_test)))"
      ],
      "metadata": {
        "colab": {
          "base_uri": "https://localhost:8080/"
        },
        "id": "6qlNn34QE_3v",
        "outputId": "2639cd4c-fe9a-4e26-8010-7f52a9097cdd"
      },
      "execution_count": 25,
      "outputs": [
        {
          "output_type": "stream",
          "name": "stdout",
          "text": [
            "Accuracy of Naive Bayes Classifier is 0.9328859060402684\n"
          ]
        }
      ]
    },
    {
      "cell_type": "code",
      "source": [
        "y_predicted = model.predict(X_test)\n",
        "y_predicted[0:10]"
      ],
      "metadata": {
        "colab": {
          "base_uri": "https://localhost:8080/"
        },
        "id": "GmngiTc1E_0-",
        "outputId": "ce602110-be39-4bff-8bcf-399af04d99e2"
      },
      "execution_count": 26,
      "outputs": [
        {
          "output_type": "execute_result",
          "data": {
            "text/plain": [
              "array(['business', 'politics', 'politics', 'politics', 'sport',\n",
              "       'business', 'tech', 'entertainment', 'business', 'tech'],\n",
              "      dtype='<U13')"
            ]
          },
          "metadata": {},
          "execution_count": 26
        }
      ]
    },
    {
      "cell_type": "code",
      "source": [
        "cnf_matrix = confusion_matrix(y_test, y_predicted)\n",
        "np.set_printoptions(precision=2)\n",
        "cnf_matrix"
      ],
      "metadata": {
        "colab": {
          "base_uri": "https://localhost:8080/"
        },
        "id": "zspmaquzLtiF",
        "outputId": "1a237ec6-7f1a-45ec-c1a4-2d2b60e068d9"
      },
      "execution_count": 27,
      "outputs": [
        {
          "output_type": "execute_result",
          "data": {
            "text/plain": [
              "array([[133,   0,   2,   0,   2],\n",
              "       [  2,  94,   1,  11,   1],\n",
              "       [  2,   0, 103,   4,   0],\n",
              "       [  0,   0,   0, 129,   0],\n",
              "       [  3,   0,   6,   6,  97]])"
            ]
          },
          "metadata": {},
          "execution_count": 27
        }
      ]
    },
    {
      "cell_type": "code",
      "source": [
        "import numpy as np\n",
        "import matplotlib.pyplot as plt\n",
        "import itertools\n",
        "\n",
        "def plot_confusion_matrix(cm, classes, normalize=False, title='Confusion matrix', cmap=plt.cm.Blues):\n",
        "\n",
        "\n",
        "    if normalize:\n",
        "        cm = cm.astype('float') / cm.sum(axis=1)[:, np.newaxis]\n",
        "        print(\"Normalized confusion matrix\")\n",
        "    else:\n",
        "        print('Confusion matrix, without normalization')\n",
        "\n",
        "    print(cm)\n",
        "\n",
        "    plt.imshow(cm, interpolation='nearest', cmap=cmap)\n",
        "    plt.title(title)\n",
        "    plt.colorbar()\n",
        "    tick_marks = np.arange(len(classes))\n",
        "    plt.xticks(tick_marks, classes, rotation=45)\n",
        "    plt.yticks(tick_marks, classes)\n",
        "\n",
        "    fmt = '.2f' if normalize else 'd'\n",
        "    thresh = cm.max() / 2.\n",
        "    for i, j in itertools.product(range(cm.shape[0]), range(cm.shape[1])):\n",
        "        plt.text(j, i, format(cm[i, j], fmt),\n",
        "                 horizontalalignment=\"center\",\n",
        "                 color=\"white\" if cm[i, j] > thresh else \"black\")\n",
        "\n",
        "    plt.ylabel('True label')\n",
        "    plt.xlabel('Predicted label')\n",
        "    plt.tight_layout()\n"
      ],
      "metadata": {
        "id": "tLjsu4wWLtcJ"
      },
      "execution_count": 30,
      "outputs": []
    },
    {
      "cell_type": "code",
      "source": [
        "plt.figure()\n",
        "plot_confusion_matrix(cnf_matrix, classes=['sport','business','politics','tech','entertainment'],\n",
        "                      title='Confusion matrix, without normalization')\n",
        "plt.figure()\n",
        "plot_confusion_matrix(cnf_matrix, classes= ['sport','business','politics','tech','entertainment'], normalize=True,title='Normalized confusion matrix')\n",
        "\n",
        "plt.show()"
      ],
      "metadata": {
        "colab": {
          "base_uri": "https://localhost:8080/",
          "height": 1000
        },
        "id": "PDJYyklcLtZ1",
        "outputId": "d6d0cfe2-816d-4d27-e9c2-0b7714fa724f"
      },
      "execution_count": 31,
      "outputs": [
        {
          "output_type": "stream",
          "name": "stdout",
          "text": [
            "Confusion matrix, without normalization\n",
            "[[133   0   2   0   2]\n",
            " [  2  94   1  11   1]\n",
            " [  2   0 103   4   0]\n",
            " [  0   0   0 129   0]\n",
            " [  3   0   6   6  97]]\n",
            "Normalized confusion matrix\n",
            "[[0.97 0.   0.01 0.   0.01]\n",
            " [0.02 0.86 0.01 0.1  0.01]\n",
            " [0.02 0.   0.94 0.04 0.  ]\n",
            " [0.   0.   0.   1.   0.  ]\n",
            " [0.03 0.   0.05 0.05 0.87]]\n"
          ]
        },
        {
          "output_type": "display_data",
          "data": {
            "text/plain": [
              "<Figure size 640x480 with 2 Axes>"
            ],
            "image/png": "[encoded data removed]"
          },
          "metadata": {}
        },
        {
          "output_type": "display_data",
          "data": {
            "text/plain": [
              "<Figure size 640x480 with 2 Axes>"
            ],
            "image/png": "[encoded data removed]"
          },
          "metadata": {}
        }
      ]
    },
    {
      "cell_type": "code",
      "source": [
        "clf = Pipeline([\n",
        "    ('vect', CountVectorizer(stop_words= \"english\")),\n",
        "    ('tfidf', TfidfTransformer()),\n",
        "    ('classifier', DecisionTreeClassifier()),\n",
        "    ])"
      ],
      "metadata": {
        "id": "lF6Sfw_MLtXN"
      },
      "execution_count": 32,
      "outputs": []
    },
    {
      "cell_type": "code",
      "source": [
        "X_train, X_test, y_train, y_test = train_test_split(df[\"Text\"], df[\"Category\"],random_state = 42, test_size = 0.20)\n",
        "X_train.shape,X_test.shape,y_train.shape,y_test.shape"
      ],
      "metadata": {
        "colab": {
          "base_uri": "https://localhost:8080/"
        },
        "id": "ZrG6zNmMOBn2",
        "outputId": "43bd6027-9358-4d18-91a0-0fd1bbb9e412"
      },
      "execution_count": 33,
      "outputs": [
        {
          "output_type": "execute_result",
          "data": {
            "text/plain": [
              "((1192,), (298,), (1192,), (298,))"
            ]
          },
          "metadata": {},
          "execution_count": 33
        }
      ]
    },
    {
      "cell_type": "code",
      "source": [
        "model = clf.fit(X_train,y_train)"
      ],
      "metadata": {
        "id": "X2mIWIsOOSdm"
      },
      "execution_count": 34,
      "outputs": []
    },
    {
      "cell_type": "code",
      "source": [
        "print(\"Accuracy of decision Classifier is {}\".format(model.score(X_test,y_test)))"
      ],
      "metadata": {
        "colab": {
          "base_uri": "https://localhost:8080/"
        },
        "id": "YmIAYqbAOSaO",
        "outputId": "08d81c94-8df2-4a7a-f0ed-d2c971ef0c4f"
      },
      "execution_count": 35,
      "outputs": [
        {
          "output_type": "stream",
          "name": "stdout",
          "text": [
            "Accuracy of decision Classifier is 0.8355704697986577\n"
          ]
        }
      ]
    },
    {
      "cell_type": "code",
      "source": [
        "clf = Pipeline([\n",
        "    ('vect', CountVectorizer(stop_words= \"english\")),\n",
        "    ('tfidf', TfidfTransformer()),\n",
        "    ('classifier', RandomForestClassifier()),\n",
        "    ])"
      ],
      "metadata": {
        "id": "UjD_C3BcOSW_"
      },
      "execution_count": 36,
      "outputs": []
    },
    {
      "cell_type": "code",
      "source": [
        "X_train, X_test, y_train, y_test = train_test_split(df[\"Text\"], df[\"Category\"],random_state = 42, test_size = 0.20)\n",
        "X_train.shape,X_test.shape,y_train.shape"
      ],
      "metadata": {
        "colab": {
          "base_uri": "https://localhost:8080/"
        },
        "id": "9ojooRzGOSUf",
        "outputId": "f4cd4a68-5049-4d35-c843-45447297a772"
      },
      "execution_count": 37,
      "outputs": [
        {
          "output_type": "execute_result",
          "data": {
            "text/plain": [
              "((1192,), (298,), (1192,))"
            ]
          },
          "metadata": {},
          "execution_count": 37
        }
      ]
    },
    {
      "cell_type": "code",
      "source": [
        "model = clf.fit(X_train,y_train)"
      ],
      "metadata": {
        "id": "GlsL72ncOSR7"
      },
      "execution_count": 38,
      "outputs": []
    },
    {
      "cell_type": "code",
      "source": [
        "print(\"Accuracy of RandomForest Classifier is {}\".format(model.score(X_test,y_test)))\n"
      ],
      "metadata": {
        "colab": {
          "base_uri": "https://localhost:8080/"
        },
        "id": "Ur-7UX-AOSPQ",
        "outputId": "59702b34-8fce-4534-aa90-9f57d92524d8"
      },
      "execution_count": 39,
      "outputs": [
        {
          "output_type": "stream",
          "name": "stdout",
          "text": [
            "Accuracy of RandomForest Classifier is 0.9765100671140939\n"
          ]
        }
      ]
    },
    {
      "cell_type": "code",
      "source": [
        "clf = Pipeline([\n",
        "    ('vect', CountVectorizer(stop_words= \"english\")),\n",
        "    ('tfidf', TfidfTransformer()),\n",
        "    ('classifier', LogisticRegression()),\n",
        "    ])"
      ],
      "metadata": {
        "id": "wxcAYSfPOSMr"
      },
      "execution_count": 40,
      "outputs": []
    },
    {
      "cell_type": "code",
      "source": [
        "X_train, X_test, y_train, y_test = train_test_split(df[\"Text\"], df[\"Category\"],random_state = 42,test_size = 0.20)\n",
        "X_train.shape,X_test.shape,y_train.shape"
      ],
      "metadata": {
        "colab": {
          "base_uri": "https://localhost:8080/"
        },
        "id": "LSPC2PN6OSKW",
        "outputId": "5b9d1ddd-b2c0-4900-d7d7-4438299a343f"
      },
      "execution_count": 41,
      "outputs": [
        {
          "output_type": "execute_result",
          "data": {
            "text/plain": [
              "((1192,), (298,), (1192,))"
            ]
          },
          "metadata": {},
          "execution_count": 41
        }
      ]
    },
    {
      "cell_type": "code",
      "source": [
        "model = clf.fit(X_train,y_train)"
      ],
      "metadata": {
        "id": "wykI_dhhPJWw"
      },
      "execution_count": 42,
      "outputs": []
    },
    {
      "cell_type": "code",
      "source": [
        "print(\"Accuracy of  LogisticRegression {}\".format(model.score(X_test,y_test)))"
      ],
      "metadata": {
        "colab": {
          "base_uri": "https://localhost:8080/"
        },
        "id": "Vpfed5r5PMrw",
        "outputId": "77fd019e-f3ae-4376-c9fb-15243cbf3ae0"
      },
      "execution_count": 43,
      "outputs": [
        {
          "output_type": "stream",
          "name": "stdout",
          "text": [
            "Accuracy of  LogisticRegression 0.9664429530201343\n"
          ]
        }
      ]
    },
    {
      "cell_type": "markdown",
      "source": [
        "# Now Classification using Neural network"
      ],
      "metadata": {
        "id": "UFizXk0qRzYb"
      }
    },
    {
      "cell_type": "code",
      "source": [
        "import re\n",
        "import nltk\n",
        "from tensorflow import keras\n",
        "from nltk.tokenize import word_tokenize\n",
        "from nltk.stem.wordnet import WordNetLemmatizer\n",
        "from nltk.corpus import wordnet\n",
        "from sklearn.model_selection import train_test_split"
      ],
      "metadata": {
        "id": "3jbGdUaBSBwj"
      },
      "execution_count": 49,
      "outputs": []
    },
    {
      "cell_type": "code",
      "source": [
        "nltk.download(\"stopwords\", quiet = True)\n",
        "nltk.download(\"wordnet\", quiet = True)\n",
        "nltk.download(\"punkt\", quiet = True)\n",
        "lemmatizer = WordNetLemmatizer()\n",
        "english_stopwords = set(nltk.corpus.stopwords.words('english'))"
      ],
      "metadata": {
        "id": "nL28W4bsSwbN"
      },
      "execution_count": 50,
      "outputs": []
    },
    {
      "cell_type": "code",
      "source": [
        "df.head()"
      ],
      "metadata": {
        "colab": {
          "base_uri": "https://localhost:8080/",
          "height": 206
        },
        "id": "iruLXG_JS3eS",
        "outputId": "9f87b3ca-b9b7-49fb-c5ec-6ea62245cb8a"
      },
      "execution_count": 51,
      "outputs": [
        {
          "output_type": "execute_result",
          "data": {
            "text/plain": [
              "   Category  ArticleId                                               Text\n",
              "0  business       1833  worldcom ex-boss launches defence lawyers defe...\n",
              "1  business        154  german business confidence slides german busin...\n",
              "2  business       1101  bbc poll indicates economic gloom citizens in ...\n",
              "3      tech       1976  lifestyle  governs mobile choice  faster  bett...\n",
              "4  business        917  enron bosses in $168m payout eighteen former e..."
            ],
            "text/html": [
              "\n",
              "  <div id=\"df-a7ce79aa-82fb-4299-87bc-8b13ef9bb906\" class=\"colab-df-container\">\n",
              "    <div>\n",
              "<style scoped>\n",
              "    .dataframe tbody tr th:only-of-type {\n",
              "        vertical-align: middle;\n",
              "    }\n",
              "\n",
              "    .dataframe tbody tr th {\n",
              "        vertical-align: top;\n",
              "    }\n",
              "\n",
              "    .dataframe thead th {\n",
              "        text-align: right;\n",
              "    }\n",
              "</style>\n",
              "<table border=\"1\" class=\"dataframe\">\n",
              "  <thead>\n",
              "    <tr style=\"text-align: right;\">\n",
              "      <th></th>\n",
              "      <th>Category</th>\n",
              "      <th>ArticleId</th>\n",
              "      <th>Text</th>\n",
              "    </tr>\n",
              "  </thead>\n",
              "  <tbody>\n",
              "    <tr>\n",
              "      <th>0</th>\n",
              "      <td>business</td>\n",
              "      <td>1833</td>\n",
              "      <td>worldcom ex-boss launches defence lawyers defe...</td>\n",
              "    </tr>\n",
              "    <tr>\n",
              "      <th>1</th>\n",
              "      <td>business</td>\n",
              "      <td>154</td>\n",
              "      <td>german business confidence slides german busin...</td>\n",
              "    </tr>\n",
              "    <tr>\n",
              "      <th>2</th>\n",
              "      <td>business</td>\n",
              "      <td>1101</td>\n",
              "      <td>bbc poll indicates economic gloom citizens in ...</td>\n",
              "    </tr>\n",
              "    <tr>\n",
              "      <th>3</th>\n",
              "      <td>tech</td>\n",
              "      <td>1976</td>\n",
              "      <td>lifestyle  governs mobile choice  faster  bett...</td>\n",
              "    </tr>\n",
              "    <tr>\n",
              "      <th>4</th>\n",
              "      <td>business</td>\n",
              "      <td>917</td>\n",
              "      <td>enron bosses in $168m payout eighteen former e...</td>\n",
              "    </tr>\n",
              "  </tbody>\n",
              "</table>\n",
              "</div>\n",
              "    <div class=\"colab-df-buttons\">\n",
              "\n",
              "  <div class=\"colab-df-container\">\n",
              "    <button class=\"colab-df-convert\" onclick=\"convertToInteractive('df-a7ce79aa-82fb-4299-87bc-8b13ef9bb906')\"\n",
              "            title=\"Convert this dataframe to an interactive table.\"\n",
              "            style=\"display:none;\">\n",
              "\n",
              "  <svg xmlns=\"http://www.w3.org/2000/svg\" height=\"24px\" viewBox=\"0 -960 960 960\">\n",
              "    <path d=\"M120-120v-720h720v720H120Zm60-500h600v-160H180v160Zm220 220h160v-160H400v160Zm0 220h160v-160H400v160ZM180-400h160v-160H180v160Zm440 0h160v-160H620v160ZM180-180h160v-160H180v160Zm440 0h160v-160H620v160Z\"/>\n",
              "  </svg>\n",
              "    </button>\n",
              "\n",
              "  <style>\n",
              "    .colab-df-container {\n",
              "      display:flex;\n",
              "      gap: 12px;\n",
              "    }\n",
              "\n",
              "    .colab-df-convert {\n",
              "      background-color: #E8F0FE;\n",
              "      border: none;\n",
              "      border-radius: 50%;\n",
              "      cursor: pointer;\n",
              "      display: none;\n",
              "      fill: #1967D2;\n",
              "      height: 32px;\n",
              "      padding: 0 0 0 0;\n",
              "      width: 32px;\n",
              "    }\n",
              "\n",
              "    .colab-df-convert:hover {\n",
              "      background-color: #E2EBFA;\n",
              "      box-shadow: 0px 1px 2px rgba(60, 64, 67, 0.3), 0px 1px 3px 1px rgba(60, 64, 67, 0.15);\n",
              "      fill: #174EA6;\n",
              "    }\n",
              "\n",
              "    .colab-df-buttons div {\n",
              "      margin-bottom: 4px;\n",
              "    }\n",
              "\n",
              "    [theme=dark] .colab-df-convert {\n",
              "      background-color: #3B4455;\n",
              "      fill: #D2E3FC;\n",
              "    }\n",
              "\n",
              "    [theme=dark] .colab-df-convert:hover {\n",
              "      background-color: #434B5C;\n",
              "      box-shadow: 0px 1px 3px 1px rgba(0, 0, 0, 0.15);\n",
              "      filter: drop-shadow(0px 1px 2px rgba(0, 0, 0, 0.3));\n",
              "      fill: #FFFFFF;\n",
              "    }\n",
              "  </style>\n",
              "\n",
              "    <script>\n",
              "      const buttonEl =\n",
              "        document.querySelector('#df-a7ce79aa-82fb-4299-87bc-8b13ef9bb906 button.colab-df-convert');\n",
              "      buttonEl.style.display =\n",
              "        google.colab.kernel.accessAllowed ? 'block' : 'none';\n",
              "\n",
              "      async function convertToInteractive(key) {\n",
              "        const element = document.querySelector('#df-a7ce79aa-82fb-4299-87bc-8b13ef9bb906');\n",
              "        const dataTable =\n",
              "          await google.colab.kernel.invokeFunction('convertToInteractive',\n",
              "                                                    [key], {});\n",
              "        if (!dataTable) return;\n",
              "\n",
              "        const docLinkHtml = 'Like what you see? Visit the ' +\n",
              "          '<a target=\"_blank\" href=https://colab.research.google.com/notebooks/data_table.ipynb>data table notebook</a>'\n",
              "          + ' to learn more about interactive tables.';\n",
              "        element.innerHTML = '';\n",
              "        dataTable['output_type'] = 'display_data';\n",
              "        await google.colab.output.renderOutput(dataTable, element);\n",
              "        const docLink = document.createElement('div');\n",
              "        docLink.innerHTML = docLinkHtml;\n",
              "        element.appendChild(docLink);\n",
              "      }\n",
              "    </script>\n",
              "  </div>\n",
              "\n",
              "\n",
              "<div id=\"df-263c51a1-e9ef-4f84-a328-42965b663c7b\">\n",
              "  <button class=\"colab-df-quickchart\" onclick=\"quickchart('df-263c51a1-e9ef-4f84-a328-42965b663c7b')\"\n",
              "            title=\"Suggest charts\"\n",
              "            style=\"display:none;\">\n",
              "\n",
              "<svg xmlns=\"http://www.w3.org/2000/svg\" height=\"24px\"viewBox=\"0 0 24 24\"\n",
              "     width=\"24px\">\n",
              "    <g>\n",
              "        <path d=\"M19 3H5c-1.1 0-2 .9-2 2v14c0 1.1.9 2 2 2h14c1.1 0 2-.9 2-2V5c0-1.1-.9-2-2-2zM9 17H7v-7h2v7zm4 0h-2V7h2v10zm4 0h-2v-4h2v4z\"/>\n",
              "    </g>\n",
              "</svg>\n",
              "  </button>\n",
              "\n",
              "<style>\n",
              "  .colab-df-quickchart {\n",
              "      --bg-color: #E8F0FE;\n",
              "      --fill-color: #1967D2;\n",
              "      --hover-bg-color: #E2EBFA;\n",
              "      --hover-fill-color: #174EA6;\n",
              "      --disabled-fill-color: #AAA;\n",
              "      --disabled-bg-color: #DDD;\n",
              "  }\n",
              "\n",
              "  [theme=dark] .colab-df-quickchart {\n",
              "      --bg-color: #3B4455;\n",
              "      --fill-color: #D2E3FC;\n",
              "      --hover-bg-color: #434B5C;\n",
              "      --hover-fill-color: #FFFFFF;\n",
              "      --disabled-bg-color: #3B4455;\n",
              "      --disabled-fill-color: #666;\n",
              "  }\n",
              "\n",
              "  .colab-df-quickchart {\n",
              "    background-color: var(--bg-color);\n",
              "    border: none;\n",
              "    border-radius: 50%;\n",
              "    cursor: pointer;\n",
              "    display: none;\n",
              "    fill: var(--fill-color);\n",
              "    height: 32px;\n",
              "    padding: 0;\n",
              "    width: 32px;\n",
              "  }\n",
              "\n",
              "  .colab-df-quickchart:hover {\n",
              "    background-color: var(--hover-bg-color);\n",
              "    box-shadow: 0 1px 2px rgba(60, 64, 67, 0.3), 0 1px 3px 1px rgba(60, 64, 67, 0.15);\n",
              "    fill: var(--button-hover-fill-color);\n",
              "  }\n",
              "\n",
              "  .colab-df-quickchart-complete:disabled,\n",
              "  .colab-df-quickchart-complete:disabled:hover {\n",
              "    background-color: var(--disabled-bg-color);\n",
              "    fill: var(--disabled-fill-color);\n",
              "    box-shadow: none;\n",
              "  }\n",
              "\n",
              "  .colab-df-spinner {\n",
              "    border: 2px solid var(--fill-color);\n",
              "    border-color: transparent;\n",
              "    border-bottom-color: var(--fill-color);\n",
              "    animation:\n",
              "      spin 1s steps(1) infinite;\n",
              "  }\n",
              "\n",
              "  @keyframes spin {\n",
              "    0% {\n",
              "      border-color: transparent;\n",
              "      border-bottom-color: var(--fill-color);\n",
              "      border-left-color: var(--fill-color);\n",
              "    }\n",
              "    20% {\n",
              "      border-color: transparent;\n",
              "      border-left-color: var(--fill-color);\n",
              "      border-top-color: var(--fill-color);\n",
              "    }\n",
              "    30% {\n",
              "      border-color: transparent;\n",
              "      border-left-color: var(--fill-color);\n",
              "      border-top-color: var(--fill-color);\n",
              "      border-right-color: var(--fill-color);\n",
              "    }\n",
              "    40% {\n",
              "      border-color: transparent;\n",
              "      border-right-color: var(--fill-color);\n",
              "      border-top-color: var(--fill-color);\n",
              "    }\n",
              "    60% {\n",
              "      border-color: transparent;\n",
              "      border-right-color: var(--fill-color);\n",
              "    }\n",
              "    80% {\n",
              "      border-color: transparent;\n",
              "      border-right-color: var(--fill-color);\n",
              "      border-bottom-color: var(--fill-color);\n",
              "    }\n",
              "    90% {\n",
              "      border-color: transparent;\n",
              "      border-bottom-color: var(--fill-color);\n",
              "    }\n",
              "  }\n",
              "</style>\n",
              "\n",
              "  <script>\n",
              "    async function quickchart(key) {\n",
              "      const quickchartButtonEl =\n",
              "        document.querySelector('#' + key + ' button');\n",
              "      quickchartButtonEl.disabled = true;  // To prevent multiple clicks.\n",
              "      quickchartButtonEl.classList.add('colab-df-spinner');\n",
              "      try {\n",
              "        const charts = await google.colab.kernel.invokeFunction(\n",
              "            'suggestCharts', [key], {});\n",
              "      } catch (error) {\n",
              "        console.error('Error during call to suggestCharts:', error);\n",
              "      }\n",
              "      quickchartButtonEl.classList.remove('colab-df-spinner');\n",
              "      quickchartButtonEl.classList.add('colab-df-quickchart-complete');\n",
              "    }\n",
              "    (() => {\n",
              "      let quickchartButtonEl =\n",
              "        document.querySelector('#df-263c51a1-e9ef-4f84-a328-42965b663c7b button');\n",
              "      quickchartButtonEl.style.display =\n",
              "        google.colab.kernel.accessAllowed ? 'block' : 'none';\n",
              "    })();\n",
              "  </script>\n",
              "</div>\n",
              "\n",
              "    </div>\n",
              "  </div>\n"
            ],
            "application/vnd.google.colaboratory.intrinsic+json": {
              "type": "dataframe",
              "variable_name": "df",
              "summary": "{\n  \"name\": \"df\",\n  \"rows\": 1490,\n  \"fields\": [\n    {\n      \"column\": \"Category\",\n      \"properties\": {\n        \"dtype\": \"category\",\n        \"num_unique_values\": 5,\n        \"samples\": [\n          \"tech\",\n          \"entertainment\",\n          \"politics\"\n        ],\n        \"semantic_type\": \"\",\n        \"description\": \"\"\n      }\n    },\n    {\n      \"column\": \"ArticleId\",\n      \"properties\": {\n        \"dtype\": \"number\",\n        \"std\": 641,\n        \"min\": 2,\n        \"max\": 2224,\n        \"num_unique_values\": 1490,\n        \"samples\": [\n          2160,\n          1360,\n          302\n        ],\n        \"semantic_type\": \"\",\n        \"description\": \"\"\n      }\n    },\n    {\n      \"column\": \"Text\",\n      \"properties\": {\n        \"dtype\": \"string\",\n        \"num_unique_values\": 1440,\n        \"samples\": [\n          \"bellamy under new fire newcastle boss graeme souness has reopened his dispute with craig bellamy after claiming the welshman was  not good enough  for the magpies. bellamy left newcastle to join celtic on loan after a major row with souness. souness - who refused to refer to the 25-year-old by name - said bellamy did not score enough goals  the chap that s just gone has scored 9.3 goals a season in his time in senior football - half of those weren t even in the top flight   said souness.  that s not good enough for a striker at a club like this.  we need to have two strikers who are near 20 goals on a regular basis.   bellamy turned down a move to birmingham in favour of joining celtic after a disagreement about the welsh international playing out of position quickly escalated. earlier in the week  souness had said that he risked losing the confidence of the players and damaging his own reputation if he had not taken a hard line after bellamy accused him of lying.   there are certain things you can forgive and forget   said souness.  but if i d been seen to be weak in this case there was no future for me with the players in the dressing room or any job i have after newcastle.  he could then return to st james  park - and he says that he wants to. however  it would seem unlikely he will play for newcastle again as long as souness remains in charge.\",\n          \"schools to take part in mock poll record numbers of schools across the uk are to take part in a mock general election backed by the government.  some 600 schools have already signed up for the y vote mock elections 2005 run by the hansard society and aimed at boosting interest in politics. pupils in the schools taking part will learn the skills of speech writers  canvassers and political candidates. schools minister stephen twigg said engaging young people s interest was  essential  to the future of democracy.  he added: said  young people who are engaged and motivated by the political process are essential to the future health of our democracy.  the mock elections initiative provides an opportunity for pupils to develop their own understanding of how the democratic process works and why it matters.  by experiencing the election process first hand - from running a campaign to the declaration of the final result - we hope that young people will develop the enthusiasm to take part in the future.  the hansard society  the electoral commission and the department for education and skills are running the programme. pupils will stand as party candidates  speech writers and canvassers. michael raftery  project manager at the hansard society  said:  the y vote mock elections for schools mirror the excitement and buzz of a real election  raising awareness of citizenship  and the benefits of active democracy.  the mock votes will take place around 5 may  widely expected to be the date of the general election. information packs  including ballot papers and manifesto guides  with elections happening in early may were sent out to the 3 000 schools invited to take part.\",\n          \"rap boss arrested over drug find rap mogul marion  suge  knight has been arrested for violating his parole after he was allegedly found with marijuana.  he was arrested in barstow  california  on saturday following an alleged traffic offence. he is expected to be transferred to a state prison while a decision is made on whether he should be released. mr knight  founder of death row records  served a 10-month jail term in 2004 for punching a man while on parole for an assault conviction. police said mr knight was stopped on saturday after performing an illegal u-turn and a search of his car allegedly found marijuana.  he is also accused of not having insurance. a 18-year-old woman in the car was arrested for providing false information and having a fake id card. she was later released. it was his second alleged violation  having previously served half of a nine-year sentence for breaking the terms of his parole. mr knight  39  was jailed in october 1996 following his involvement in a fight with a rival gang just hours before rapper tupac shakur was killed in a las vegas drive-by shooting. he was driving shakur s car at the time and was shot in the head. at the time he was on probation for assaulting two musicians. mr knight  a former bodyguard  set up death row records in the early 1990s with shakur and dr dre among his protegees. but the label has always been dogged by allegations it supports gang culture and fuels the east and west coast rap rivalry.\"\n        ],\n        \"semantic_type\": \"\",\n        \"description\": \"\"\n      }\n    }\n  ]\n}"
            }
          },
          "metadata": {},
          "execution_count": 51
        }
      ]
    },
    {
      "cell_type": "code",
      "source": [
        "def preprocess(review):\n",
        "    Text = re.sub('<.*?>', '', review.lower().strip())\n",
        "    Text = re.sub('[^\\w\\s]', ' ', Text)\n",
        "\n",
        "    result = ''\n",
        "    tokens = nltk.word_tokenize(Text)\n",
        "    for t in tokens:\n",
        "        lemma = lemmatizer.lemmatize(t)\n",
        "        if lemma not in english_stopwords:\n",
        "            result += lemma + ' '\n",
        "\n",
        "    return result\n"
      ],
      "metadata": {
        "id": "FNMzmK0tS8Gg"
      },
      "execution_count": 52,
      "outputs": []
    },
    {
      "cell_type": "code",
      "source": [
        "df['Text'] = df['Text'].apply(lambda x : preprocess(x))"
      ],
      "metadata": {
        "id": "X0FicCC3S8DM"
      },
      "execution_count": 54,
      "outputs": []
    },
    {
      "cell_type": "code",
      "source": [
        "X_train, X_test, y_train, y_test = train_test_split(df['Text'], df['Category'], test_size=0.2, random_state=42, shuffle=True)"
      ],
      "metadata": {
        "id": "aSGMidpaS8A4"
      },
      "execution_count": 55,
      "outputs": []
    },
    {
      "cell_type": "code",
      "source": [
        "NUM_WORDS = 1000\n",
        "EMBEDDING_DIM = 16\n",
        "MAXLEN = 120\n",
        "PADDING = 'post'\n",
        "OOV_TOKEN = \"<OOV>\"\n",
        "TRAINING_SPLIT = .8"
      ],
      "metadata": {
        "id": "tnKYfuxTS7-G"
      },
      "execution_count": 56,
      "outputs": []
    },
    {
      "cell_type": "code",
      "source": [
        "def fit_tokenizer(train_sentences, num_words, oov_token):\n",
        "    tokenizer = keras.preprocessing.text.Tokenizer(num_words, oov_token=oov_token)\n",
        "    tokenizer.fit_on_texts(train_sentences)\n",
        "    return tokenizer"
      ],
      "metadata": {
        "id": "4IPCqyXQS7R-"
      },
      "execution_count": 57,
      "outputs": []
    },
    {
      "cell_type": "code",
      "source": [
        "tokenizer = fit_tokenizer(X_train, NUM_WORDS, OOV_TOKEN)\n",
        "word_index = tokenizer.word_index\n",
        "print(f\"Vocabulary contains {len(word_index)} words\\n\")\n",
        "print(\"<OOV> token included in vocabulary\" if \"<OOV>\" in word_index else \"<OOV> token NOT included in vocabulary\")"
      ],
      "metadata": {
        "colab": {
          "base_uri": "https://localhost:8080/"
        },
        "id": "xcTwC5LHUaHr",
        "outputId": "eab955e0-0e42-4563-c427-640f66d43dda"
      },
      "execution_count": 58,
      "outputs": [
        {
          "output_type": "stream",
          "name": "stdout",
          "text": [
            "Vocabulary contains 20117 words\n",
            "\n",
            "<OOV> token included in vocabulary\n"
          ]
        }
      ]
    },
    {
      "cell_type": "code",
      "source": [
        "def seq_and_pad(sentences, tokenizer, padding, maxlen):\n",
        "\n",
        "    sequences = tokenizer.texts_to_sequences(sentences)\n",
        "    padded_sequences = keras.preprocessing.sequence.pad_sequences(sequences, padding=padding, maxlen=maxlen)\n",
        "    print(padded_sequences)\n",
        "    return padded_sequences"
      ],
      "metadata": {
        "id": "6TQYnIBqUd2S"
      },
      "execution_count": 59,
      "outputs": []
    },
    {
      "cell_type": "code",
      "source": [
        "train_padded_seq = seq_and_pad(X_train, tokenizer, PADDING, MAXLEN)\n",
        "val_padded_seq = seq_and_pad(X_test, tokenizer, PADDING, MAXLEN)\n",
        "print(f\"Padded training sequences have shape: {train_padded_seq.shape}\\n\")\n",
        "print(f\"Padded validation sequences have shape: {val_padded_seq.shape}\")"
      ],
      "metadata": {
        "colab": {
          "base_uri": "https://localhost:8080/"
        },
        "id": "iEG2p6HYUxv1",
        "outputId": "6797973e-91da-4258-cfaa-578ade31c316"
      },
      "execution_count": 60,
      "outputs": [
        {
          "output_type": "stream",
          "name": "stdout",
          "text": [
            "[[619  15  14 ...   1   1 652]\n",
            " [895   3   1 ...   1   1   1]\n",
            " [  1   1   1 ...  90 630  90]\n",
            " ...\n",
            " [ 28 345   1 ...  52   5   1]\n",
            " [440   1   1 ... 603   1 168]\n",
            " [  1   1   1 ...   1   4   1]]\n",
            "[[  1   1   1 ...   1 197   1]\n",
            " [  1 226  59 ...   6   1 349]\n",
            " [  1   1   2 ...   1 117 766]\n",
            " ...\n",
            " [  1   1 951 ... 270   1  27]\n",
            " [  4 955   1 ...   1   1   1]\n",
            " [  1   1  98 ...   1 983   1]]\n",
            "Padded training sequences have shape: (1192, 120)\n",
            "\n",
            "Padded validation sequences have shape: (298, 120)\n"
          ]
        }
      ]
    },
    {
      "cell_type": "code",
      "source": [
        "def tokenize_labels(all_labels, split_labels):\n",
        "    label_tokenizer = keras.preprocessing.text.Tokenizer()\n",
        "    label_tokenizer.fit_on_texts(all_labels)\n",
        "    label_seq = label_tokenizer.texts_to_sequences(split_labels)\n",
        "    label_seq_np = np.array(label_seq)-1\n",
        "    return label_seq_np"
      ],
      "metadata": {
        "id": "IAS9e4OzU1yP"
      },
      "execution_count": 61,
      "outputs": []
    },
    {
      "cell_type": "code",
      "source": [
        "train_label_seq = tokenize_labels(df['Category'], y_train)\n",
        "val_label_seq = tokenize_labels(df['Category'], y_test)\n",
        "\n",
        "print(f\"First 5 labels of the training set should look like this:\\n{train_label_seq[:5]}\\n\")\n",
        "print(f\"First 5 labels of the validation set should look like this:\\n{val_label_seq[:5]}\\n\")\n",
        "print(f\"Tokenized labels of the training set have shape: {train_label_seq.shape}\\n\")\n",
        "print(f\"Tokenized labels of the validation set have shape: {val_label_seq.shape}\\n\")"
      ],
      "metadata": {
        "colab": {
          "base_uri": "https://localhost:8080/"
        },
        "id": "McncmMjgVIu7",
        "outputId": "ba284c10-6c94-4644-f44b-c0d104d311fb"
      },
      "execution_count": 63,
      "outputs": [
        {
          "output_type": "stream",
          "name": "stdout",
          "text": [
            "First 5 labels of the training set should look like this:\n",
            "[[0]\n",
            " [1]\n",
            " [2]\n",
            " [0]\n",
            " [2]]\n",
            "\n",
            "First 5 labels of the validation set should look like this:\n",
            "[[3]\n",
            " [2]\n",
            " [2]\n",
            " [4]\n",
            " [4]]\n",
            "\n",
            "Tokenized labels of the training set have shape: (1192, 1)\n",
            "\n",
            "Tokenized labels of the validation set have shape: (298, 1)\n",
            "\n"
          ]
        }
      ]
    },
    {
      "cell_type": "code",
      "source": [
        "def build_model(num_words,embedding_dim,maxlen):\n",
        "\n",
        "    model = keras.Sequential([\n",
        "        keras.layers.Embedding(input_dim=num_words, output_dim = embedding_dim, input_length=maxlen),\n",
        "        keras.layers.GlobalAveragePooling1D(),\n",
        "        keras.layers.Dense(15, activation='relu'),\n",
        "        keras.layers.Dense(5, activation='softmax')\n",
        "    ])\n",
        "\n",
        "    model.compile(loss='sparse_categorical_crossentropy',\n",
        "                  optimizer='adam',\n",
        "                  metrics=['accuracy'])\n",
        "\n",
        "    return model"
      ],
      "metadata": {
        "id": "zn2A5BFdVRQG"
      },
      "execution_count": 64,
      "outputs": []
    },
    {
      "cell_type": "code",
      "source": [
        "model = build_model(NUM_WORDS, EMBEDDING_DIM, MAXLEN)\n",
        "\n",
        "history = model.fit(train_padded_seq, train_label_seq, epochs=30, validation_data=(val_padded_seq, val_label_seq))"
      ],
      "metadata": {
        "colab": {
          "base_uri": "https://localhost:8080/"
        },
        "id": "GvX_6NGNVbEk",
        "outputId": "da4da2e1-6253-44c2-a35d-a7f0565ad97f"
      },
      "execution_count": 65,
      "outputs": [
        {
          "output_type": "stream",
          "name": "stdout",
          "text": [
            "Epoch 1/30\n",
            "38/38 [==============================] - 1s 9ms/step - loss: 1.6045 - accuracy: 0.2483 - val_loss: 1.5976 - val_accuracy: 0.2114\n",
            "Epoch 2/30\n",
            "38/38 [==============================] - 0s 4ms/step - loss: 1.5828 - accuracy: 0.2685 - val_loss: 1.5660 - val_accuracy: 0.3456\n",
            "Epoch 3/30\n",
            "38/38 [==============================] - 0s 4ms/step - loss: 1.5356 - accuracy: 0.4052 - val_loss: 1.5060 - val_accuracy: 0.4027\n",
            "Epoch 4/30\n",
            "38/38 [==============================] - 0s 4ms/step - loss: 1.4552 - accuracy: 0.4505 - val_loss: 1.4134 - val_accuracy: 0.4362\n",
            "Epoch 5/30\n",
            "38/38 [==============================] - 0s 4ms/step - loss: 1.3406 - accuracy: 0.4706 - val_loss: 1.2854 - val_accuracy: 0.5436\n",
            "Epoch 6/30\n",
            "38/38 [==============================] - 0s 4ms/step - loss: 1.2052 - accuracy: 0.5629 - val_loss: 1.1512 - val_accuracy: 0.6309\n",
            "Epoch 7/30\n",
            "38/38 [==============================] - 0s 4ms/step - loss: 1.0658 - accuracy: 0.6871 - val_loss: 1.0226 - val_accuracy: 0.7114\n",
            "Epoch 8/30\n",
            "38/38 [==============================] - 0s 4ms/step - loss: 0.9311 - accuracy: 0.7617 - val_loss: 0.9050 - val_accuracy: 0.7785\n",
            "Epoch 9/30\n",
            "38/38 [==============================] - 0s 4ms/step - loss: 0.8086 - accuracy: 0.8406 - val_loss: 0.7976 - val_accuracy: 0.8389\n",
            "Epoch 10/30\n",
            "38/38 [==============================] - 0s 5ms/step - loss: 0.6979 - accuracy: 0.8909 - val_loss: 0.7037 - val_accuracy: 0.8725\n",
            "Epoch 11/30\n",
            "38/38 [==============================] - 0s 4ms/step - loss: 0.6014 - accuracy: 0.9069 - val_loss: 0.6203 - val_accuracy: 0.8926\n",
            "Epoch 12/30\n",
            "38/38 [==============================] - 0s 4ms/step - loss: 0.5188 - accuracy: 0.9186 - val_loss: 0.5529 - val_accuracy: 0.8893\n",
            "Epoch 13/30\n",
            "38/38 [==============================] - 0s 4ms/step - loss: 0.4505 - accuracy: 0.9362 - val_loss: 0.4980 - val_accuracy: 0.9060\n",
            "Epoch 14/30\n",
            "38/38 [==============================] - 0s 4ms/step - loss: 0.3941 - accuracy: 0.9446 - val_loss: 0.4527 - val_accuracy: 0.9027\n",
            "Epoch 15/30\n",
            "38/38 [==============================] - 0s 4ms/step - loss: 0.3470 - accuracy: 0.9530 - val_loss: 0.4165 - val_accuracy: 0.9027\n",
            "Epoch 16/30\n",
            "38/38 [==============================] - 0s 5ms/step - loss: 0.3072 - accuracy: 0.9572 - val_loss: 0.3862 - val_accuracy: 0.9060\n",
            "Epoch 17/30\n",
            "38/38 [==============================] - 0s 5ms/step - loss: 0.2729 - accuracy: 0.9631 - val_loss: 0.3579 - val_accuracy: 0.9161\n",
            "Epoch 18/30\n",
            "38/38 [==============================] - 0s 4ms/step - loss: 0.2438 - accuracy: 0.9681 - val_loss: 0.3348 - val_accuracy: 0.9228\n",
            "Epoch 19/30\n",
            "38/38 [==============================] - 0s 4ms/step - loss: 0.2189 - accuracy: 0.9715 - val_loss: 0.3155 - val_accuracy: 0.9228\n",
            "Epoch 20/30\n",
            "38/38 [==============================] - 0s 4ms/step - loss: 0.1979 - accuracy: 0.9732 - val_loss: 0.2996 - val_accuracy: 0.9195\n",
            "Epoch 21/30\n",
            "38/38 [==============================] - 0s 4ms/step - loss: 0.1787 - accuracy: 0.9748 - val_loss: 0.2889 - val_accuracy: 0.9329\n",
            "Epoch 22/30\n",
            "38/38 [==============================] - 0s 5ms/step - loss: 0.1622 - accuracy: 0.9773 - val_loss: 0.2778 - val_accuracy: 0.9262\n",
            "Epoch 23/30\n",
            "38/38 [==============================] - 0s 4ms/step - loss: 0.1479 - accuracy: 0.9773 - val_loss: 0.2680 - val_accuracy: 0.9329\n",
            "Epoch 24/30\n",
            "38/38 [==============================] - 0s 4ms/step - loss: 0.1354 - accuracy: 0.9799 - val_loss: 0.2610 - val_accuracy: 0.9362\n",
            "Epoch 25/30\n",
            "38/38 [==============================] - 0s 4ms/step - loss: 0.1232 - accuracy: 0.9815 - val_loss: 0.2503 - val_accuracy: 0.9329\n",
            "Epoch 26/30\n",
            "38/38 [==============================] - 0s 4ms/step - loss: 0.1132 - accuracy: 0.9815 - val_loss: 0.2475 - val_accuracy: 0.9362\n",
            "Epoch 27/30\n",
            "38/38 [==============================] - 0s 4ms/step - loss: 0.1042 - accuracy: 0.9841 - val_loss: 0.2377 - val_accuracy: 0.9362\n",
            "Epoch 28/30\n",
            "38/38 [==============================] - 0s 4ms/step - loss: 0.0958 - accuracy: 0.9874 - val_loss: 0.2345 - val_accuracy: 0.9362\n",
            "Epoch 29/30\n",
            "38/38 [==============================] - 0s 5ms/step - loss: 0.0881 - accuracy: 0.9899 - val_loss: 0.2301 - val_accuracy: 0.9362\n",
            "Epoch 30/30\n",
            "38/38 [==============================] - 0s 4ms/step - loss: 0.0812 - accuracy: 0.9908 - val_loss: 0.2267 - val_accuracy: 0.9396\n"
          ]
        }
      ]
    },
    {
      "cell_type": "code",
      "source": [
        "def plot_graphs(history, metric):\n",
        "    plt.plot(history.history[metric])\n",
        "    plt.plot(history.history[f'val_{metric}'])\n",
        "    plt.xlabel(\"Epochs\")\n",
        "    plt.ylabel(metric)\n",
        "    plt.legend([metric, f'val_{metric}'])\n",
        "    plt.show()\n",
        "plot_graphs(history, \"accuracy\")\n",
        "plot_graphs(history, \"loss\")"
      ],
      "metadata": {
        "colab": {
          "base_uri": "https://localhost:8080/",
          "height": 899
        },
        "id": "SdJ6JeV0VbBa",
        "outputId": "eaba516f-7b7e-4d05-b306-8f21391a9330"
      },
      "execution_count": 66,
      "outputs": [
        {
          "output_type": "display_data",
          "data": {
            "text/plain": [
              "<Figure size 640x480 with 1 Axes>"
            ],
            "image/png": "[encoded data removed]"
          },
          "metadata": {}
        },
        {
          "output_type": "display_data",
          "data": {
            "text/plain": [
              "<Figure size 640x480 with 1 Axes>"
            ],
            "image/png": "[encoded data removed]"
          },
          "metadata": {}
        }
      ]
    }
  ]
}